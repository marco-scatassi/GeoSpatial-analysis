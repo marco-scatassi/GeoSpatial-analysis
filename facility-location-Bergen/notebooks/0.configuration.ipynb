{
 "cells": [
  {
   "attachments": {},
   "cell_type": "markdown",
   "metadata": {},
   "source": [
    "## Import"
   ]
  },
  {
   "cell_type": "code",
   "execution_count": 1,
   "metadata": {},
   "outputs": [],
   "source": [
    "import os\n",
    "import regex as re\n",
    "from kedro.io import DataCatalog\n",
    "from kedro.config import ConfigLoader\n",
    "from kedro.runner import ParallelRunner\n",
    "from kedro.framework.project import settings\n",
    "from kedro.framework.session import KedroSession\n",
    "from kedro.extras.datasets.json import JSONDataSet"
   ]
  },
  {
   "cell_type": "code",
   "execution_count": 2,
   "metadata": {},
   "outputs": [],
   "source": [
    "dates = [f\"{day}_04_2023\" for day in range(20, 27)]"
   ]
  },
  {
   "cell_type": "markdown",
   "metadata": {},
   "source": [
    "## Data ingestion"
   ]
  },
  {
   "attachments": {},
   "cell_type": "markdown",
   "metadata": {},
   "source": [
    "### Set data ingestion parameters"
   ]
  },
  {
   "cell_type": "code",
   "execution_count": 57,
   "metadata": {},
   "outputs": [],
   "source": [
    "root_general_params = r\"C:\\Users\\Marco\\Documents\\GitHub\\GeoSpatial-analysis\\facility-location-Bergen\\conf\\base\\parameters.yml\"\n",
    "root_ingestion_params = r\"C:\\Users\\Marco\\Documents\\GitHub\\GeoSpatial-analysis\\facility-location-Bergen\\conf\\base\\parameters\\ingestion.yml\""
   ]
  },
  {
   "cell_type": "code",
   "execution_count": 58,
   "metadata": {},
   "outputs": [],
   "source": [
    "with open(root_ingestion_params, \"r+\") as f:\n",
    "    contents = f.read()\n",
    "    \n",
    "    n_dates_in_file = len(re.findall(r\"(ingestion.date\\d: .*\\n)\", contents))\n",
    "    m_dates_to_write = len(dates)\n",
    "    \n",
    "    if n_dates_in_file < m_dates_to_write:\n",
    "        if n_dates_in_file == 0:\n",
    "            s = \"\"\n",
    "            for i in range(0, m_dates_to_write):\n",
    "                s += f'ingestion.date{i}: \\n'\n",
    "            contents = \"\\n\".join([s])\n",
    "        else:\n",
    "            start = n_dates_in_file-1\n",
    "            s = f'ingestion.date{start}: \\n'\n",
    "            for i in range(n_dates_in_file, m_dates_to_write):\n",
    "                s += f'ingestion.date{i}: \\n'\n",
    "            contents = re.sub(fr\"(ingestion.date{n_dates_in_file-1}: .*\\n)\", s, contents)\n",
    "            \n",
    "    for i, date in enumerate(dates):\n",
    "        contents = re.sub(fr\"(ingestion.date{i}: .*\\n)\", f'ingestion.date{i}: \"{date}\"\\n', contents)\n",
    "    \n",
    "    if n_dates_in_file > m_dates_to_write:\n",
    "        for i in range(m_dates_to_write, n_dates_in_file):\n",
    "            contents = re.sub(fr\"(ingestion.date{i}: .*\\n)\", f'ingestion.date{i}: \\n', contents)\n",
    "\n",
    "    \n",
    "    f.seek(0)\n",
    "    f.truncate()\n",
    "    f.write(contents)\n",
    "    "
   ]
  },
  {
   "cell_type": "code",
   "execution_count": 59,
   "metadata": {},
   "outputs": [
    {
     "name": "stdout",
     "output_type": "stream",
     "text": [
      "ingestion.date0: \"20_04_2023\"\n",
      "ingestion.date1: \"21_04_2023\"\n",
      "ingestion.date2: \"22_04_2023\"\n",
      "ingestion.date3: \"23_04_2023\"\n",
      "ingestion.date4: \"24_04_2023\"\n",
      "ingestion.date5: \"25_04_2023\"\n",
      "ingestion.date6: \"26_04_2023\"\n",
      "\n",
      "\n"
     ]
    }
   ],
   "source": [
    "for line in contents.split(\"\\n\"):\n",
    "    print(line)"
   ]
  },
  {
   "attachments": {},
   "cell_type": "markdown",
   "metadata": {},
   "source": [
    "## Data cleaning"
   ]
  },
  {
   "attachments": {},
   "cell_type": "markdown",
   "metadata": {},
   "source": [
    "### Set data cleaning parameters"
   ]
  },
  {
   "cell_type": "code",
   "execution_count": 60,
   "metadata": {},
   "outputs": [],
   "source": [
    "root_general_params = r\"C:\\Users\\Marco\\Documents\\GitHub\\GeoSpatial-analysis\\facility-location-Bergen\\conf\\base\\parameters.yml\"\n",
    "root_cleaning_params = r\"C:\\Users\\Marco\\Documents\\GitHub\\GeoSpatial-analysis\\facility-location-Bergen\\conf\\base\\parameters\\cleaning.yml\""
   ]
  },
  {
   "cell_type": "code",
   "execution_count": 61,
   "metadata": {},
   "outputs": [],
   "source": [
    "bergen_polygon_vertex = [\n",
    "     [5.161214, 60.372825],\n",
    "     [5.211224, 60.398977],\n",
    "     [5.255800, 60.409478],\n",
    "     [5.240007, 60.479588],\n",
    "     [5.259292, 60.528707],\n",
    "     [5.322314, 60.545026],\n",
    "     [5.542953, 60.421316],\n",
    "     [5.486513, 60.348389],\n",
    "     [5.343004, 60.257903],\n",
    "     [5.256487, 60.240867],\n",
    "     [5.227651, 60.242074],\n",
    "     [5.190497, 60.291077],\n",
    "     [5.197846, 60.325154],\n",
    "     [5.183965, 60.337078],\n",
    "     [5.169675, 60.340815],\n",
    "     [5.161214, 60.372825]]"
   ]
  },
  {
   "cell_type": "code",
   "execution_count": 62,
   "metadata": {},
   "outputs": [],
   "source": [
    "with open(root_cleaning_params, \"r+\") as f:\n",
    "    contents = f.read()\n",
    "    \n",
    "    n_dates_in_file = len(re.findall(r\"(cleaning.date\\d: .*\\n)\", contents))\n",
    "    m_dates_to_write = len(dates)\n",
    "    \n",
    "    if n_dates_in_file < m_dates_to_write:\n",
    "        if n_dates_in_file == 0:\n",
    "            s = \"\"\n",
    "            for i in range(0, m_dates_to_write):\n",
    "                s += f'cleaning.date{i}: \\n'\n",
    "            contents = \"\\n\".join([s])\n",
    "        else:\n",
    "            start = n_dates_in_file-1\n",
    "            s = f'cleaning.date{start}: \\n'\n",
    "            for i in range(n_dates_in_file, m_dates_to_write):\n",
    "                s += f'cleaning.date{i}: \\n'\n",
    "            contents = re.sub(fr\"(cleaning.date{n_dates_in_file-1}: .*\\n)\", s, contents)\n",
    "            \n",
    "    for i, date in enumerate(dates):\n",
    "        contents = re.sub(fr\"(cleaning.date{i}: .*\\n)\", f'cleaning.date{i}: \"{date}\"\\n', contents)\n",
    "    \n",
    "    if n_dates_in_file > m_dates_to_write:\n",
    "        for i in range(m_dates_to_write, n_dates_in_file):\n",
    "            contents = re.sub(fr\"(cleaning.date{i}: .*\\n)\", f'cleaning.date{i}: \\n', contents)\n",
    "    \n",
    "    if \"cleaning.polygon_vertex\" not in contents:\n",
    "        contents += f\"\\ncleaning.polygon_vertex: {bergen_polygon_vertex}\\n\"\n",
    "    else:\n",
    "        contents = re.sub(r\"(cleaning.polygon_vertex: .*\\n)\", f\"cleaning.polygon_vertex: {bergen_polygon_vertex}\\n\", contents)\n",
    "        \n",
    "    f.seek(0)\n",
    "    f.truncate()\n",
    "    f.write(contents)"
   ]
  },
  {
   "cell_type": "code",
   "execution_count": 63,
   "metadata": {},
   "outputs": [
    {
     "name": "stdout",
     "output_type": "stream",
     "text": [
      "cleaning.date0: \"20_04_2023\"\n",
      "cleaning.date1: \"21_04_2023\"\n",
      "cleaning.date2: \"22_04_2023\"\n",
      "cleaning.date3: \"23_04_2023\"\n",
      "cleaning.date4: \"24_04_2023\"\n",
      "cleaning.date5: \"25_04_2023\"\n",
      "cleaning.date6: \"26_04_2023\"\n",
      "\n",
      "cleaning.polygon_vertex: [[5.161214, 60.372825], [5.211224, 60.398977], [5.2558, 60.409478], [5.240007, 60.479588], [5.259292, 60.528707], [5.322314, 60.545026], [5.542953, 60.421316], [5.486513, 60.348389], [5.343004, 60.257903], [5.256487, 60.240867], [5.227651, 60.242074], [5.190497, 60.291077], [5.197846, 60.325154], [5.183965, 60.337078], [5.169675, 60.340815], [5.161214, 60.372825]]\n",
      "\n"
     ]
    }
   ],
   "source": [
    "for line in contents.split(\"\\n\"):\n",
    "    print(line)"
   ]
  },
  {
   "cell_type": "code",
   "execution_count": 64,
   "metadata": {},
   "outputs": [],
   "source": [
    "import os\n",
    "from kedro.config import ConfigLoader\n",
    "from kedro.framework.project import settings"
   ]
  },
  {
   "cell_type": "code",
   "execution_count": 65,
   "metadata": {},
   "outputs": [],
   "source": [
    "def retrieve_catalog_path():\n",
    "    project_dir = get_project_directory()\n",
    "    return f\"{project_dir}\\\\conf\\\\base\\\\catalog.yml\"\n",
    "\n",
    "def retrieve_global_parameters():\n",
    "    project_dir = get_project_directory()\n",
    "    conf_path = f\"{project_dir}\\\\{settings.CONF_SOURCE}\"\n",
    "    conf_loader = ConfigLoader(conf_source=conf_path, env=\"local\")\n",
    "    conf_params = conf_loader[\"catalog\"]\n",
    "    return conf_params"
   ]
  },
  {
   "cell_type": "code",
   "execution_count": 66,
   "metadata": {},
   "outputs": [],
   "source": [
    "conf_catalog = retrieve_global_parameters()"
   ]
  },
  {
   "cell_type": "code",
   "execution_count": 67,
   "metadata": {},
   "outputs": [
    {
     "data": {
      "text/plain": [
       "{'type': 'pickle.PickleDataSet',\n",
       " 'filepath': 'data/02_interediate/cleaning_20_04_2023_trigger_20_04_2023.pkl'}"
      ]
     },
     "execution_count": 67,
     "metadata": {},
     "output_type": "execute_result"
    }
   ],
   "source": [
    "conf_catalog['cleaning.20_04_2023.trigger_20_04_2023']"
   ]
  }
 ],
 "metadata": {
  "kernelspec": {
   "display_name": "Kedro (facility_location_Bergen)",
   "language": "python",
   "name": "kedro_facility_location_bergen"
  },
  "language_info": {
   "codemirror_mode": {
    "name": "ipython",
    "version": 3
   },
   "file_extension": ".py",
   "mimetype": "text/x-python",
   "name": "python",
   "nbconvert_exporter": "python",
   "pygments_lexer": "ipython3",
   "version": "3.10.11"
  }
 },
 "nbformat": 4,
 "nbformat_minor": 2
}
