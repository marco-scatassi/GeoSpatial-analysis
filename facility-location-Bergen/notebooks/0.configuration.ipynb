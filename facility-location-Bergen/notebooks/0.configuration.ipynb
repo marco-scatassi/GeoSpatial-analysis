{
 "cells": [
  {
   "attachments": {},
   "cell_type": "markdown",
   "metadata": {},
   "source": [
    "## Import"
   ]
  },
  {
   "cell_type": "code",
   "execution_count": 32,
   "metadata": {},
   "outputs": [],
   "source": [
    "import os\n",
    "import regex as re\n",
    "from kedro.io import DataCatalog\n",
    "from kedro.config import ConfigLoader\n",
    "from kedro.runner import ParallelRunner\n",
    "from kedro.framework.project import settings\n",
    "from kedro.framework.session import KedroSession\n",
    "from kedro.extras.datasets.json import JSONDataSet"
   ]
  },
  {
   "cell_type": "markdown",
   "metadata": {},
   "source": [
    "## Data ingestion"
   ]
  },
  {
   "cell_type": "markdown",
   "metadata": {},
   "source": [
    "### Set the data ingestion parameters"
   ]
  },
  {
   "cell_type": "code",
   "execution_count": 48,
   "metadata": {},
   "outputs": [
    {
     "data": {
      "text/plain": [
       "['new_collections_from_raw.yml']"
      ]
     },
     "execution_count": 48,
     "metadata": {},
     "output_type": "execute_result"
    }
   ],
   "source": [
    "retrieve_db_params_path = r\"C:\\Users\\Marco\\Documents\\GitHub\\GeoSpatial-analysis\\facility-location-Bergen\\conf\\base\\parameters\"\n",
    "os.listdir(retrieve_db_params_path)"
   ]
  },
  {
   "cell_type": "code",
   "execution_count": 87,
   "metadata": {},
   "outputs": [],
   "source": [
    "dates = [f\"{day}_04_2023\" for day in range(20, 21)]"
   ]
  },
  {
   "cell_type": "code",
   "execution_count": 88,
   "metadata": {},
   "outputs": [],
   "source": [
    "with open(os.path.join(retrieve_db_params_path, \"new_collections_from_raw.yml\"), \"r+\") as f:\n",
    "    contents = f.read()\n",
    "    \n",
    "    n_dates_in_file = len(re.findall(r\"(date\\d: .*\\n)\", contents))\n",
    "    m_dates_to_write = len(dates)\n",
    "    \n",
    "    if n_dates_in_file < m_dates_to_write:\n",
    "        s = f'date{n_dates_in_file-1}: \\n'\n",
    "        for i in range(n_dates_in_file, m_dates_to_write):\n",
    "            s += f'date{i}: \\n'\n",
    "            \n",
    "        contents = re.sub(fr\"(date{n_dates_in_file-1}: .*\\n)\", s, contents)\n",
    "    \n",
    "    for i, date in enumerate(dates):\n",
    "        contents = re.sub(fr\"(date{i}: .*\\n)\", f'date{i}: \"{date}\"\\n', contents)\n",
    "    \n",
    "    if n_dates_in_file > m_dates_to_write:\n",
    "        for i in range(m_dates_to_write, n_dates_in_file):\n",
    "            contents = re.sub(fr\"(date{i}: .*\\n)\", f'date{i}: \\n', contents)\n",
    "    \n",
    "    f.seek(0)\n",
    "    f.truncate()\n",
    "    f.write(contents)\n",
    "    "
   ]
  },
  {
   "cell_type": "code",
   "execution_count": 89,
   "metadata": {},
   "outputs": [
    {
     "name": "stdout",
     "output_type": "stream",
     "text": [
      "# This is a boilerplate parameters config generated for pipeline 'new_collections_from_raw'\n",
      "# using Kedro 0.18.7.\n",
      "#\n",
      "# Documentation for this file format can be found in \"Parameters\"\n",
      "# Link: https://docs.kedro.org/en/0.18.7/kedro_project_setup/configuration.html#parameters\n",
      "\n",
      "date0: \"20_04_2023\"\n",
      "date1: \n",
      "date2: \n",
      "date3: \n",
      "date4: \n",
      "date5: \n",
      "date6: \n",
      "\n",
      "\n",
      "\n",
      "db_name: \"facility_location_Bergen\"\n",
      "root_dir: \"C:\\\\Users\\\\Marco\\\\Documents\\\\GitHub\\\\GeoSpatial-analysis\\\\facility-location-Bergen\\\\data\\\\01_raw\\\\Bergen\"\n"
     ]
    }
   ],
   "source": [
    "for line in contents.split(\"\\n\"):\n",
    "    print(line)"
   ]
  }
 ],
 "metadata": {
  "kernelspec": {
   "display_name": "Kedro (facility_location_Bergen)",
   "language": "python",
   "name": "kedro_facility_location_bergen"
  },
  "language_info": {
   "codemirror_mode": {
    "name": "ipython",
    "version": 3
   },
   "file_extension": ".py",
   "mimetype": "text/x-python",
   "name": "python",
   "nbconvert_exporter": "python",
   "pygments_lexer": "ipython3",
   "version": "3.10.11"
  }
 },
 "nbformat": 4,
 "nbformat_minor": 2
}
