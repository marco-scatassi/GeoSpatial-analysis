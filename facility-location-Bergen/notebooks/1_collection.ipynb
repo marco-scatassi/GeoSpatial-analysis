{
 "cells": [
  {
   "cell_type": "code",
   "execution_count": 2,
   "metadata": {},
   "outputs": [],
   "source": [
    "import requests\n",
    "import json\n",
    "from apscheduler.schedulers.blocking import BlockingScheduler\n",
    "from datetime import datetime\n",
    "import pytz"
   ]
  },
  {
   "cell_type": "code",
   "execution_count": 3,
   "metadata": {},
   "outputs": [],
   "source": [
    "YOUR_API_KEY = 'XYGLrCMh7uQhfhE0U7Zz5Dg53b8k4ccpyO0p47g-2MI'\n",
    "BBOX = 'bbox:5.1334,60.2603,5.5563,60.5567'\n",
    "BERGEN_TIME_ZONE = pytz.timezone(\"Europe/Oslo\")"
   ]
  },
  {
   "cell_type": "code",
   "execution_count": 4,
   "metadata": {},
   "outputs": [],
   "source": [
    "MINUTES = 5\n",
    "\n",
    "START_DATE_1 = \"2023-04-30 07:30:00\"\n",
    "END_DATE_1 = \"2023-04-30 09:30:00\"\n",
    "\n",
    "START_DATE_2 = \"2023-04-30 11:00:00\"\n",
    "END_DATE_2 = \"2023-04-30 12:00:00\"\n",
    "\n",
    "START_DATE_3 = \"2023-04-30 15:00:00\"\n",
    "END_DATE_3 = \"2023-04-30 17:00:00\""
   ]
  },
  {
   "cell_type": "code",
   "execution_count": null,
   "metadata": {},
   "outputs": [],
   "source": [
    "sched = BlockingScheduler()\n",
    "\n",
    "\n",
    "def job():\n",
    "    print(\"Starting job...\\n\")\n",
    "    dt = datetime.now(BERGEN_TIME_ZONE)\n",
    "    tmstm = int(datetime.timestamp(dt))\n",
    "\n",
    "    print(f\"Actual date is: {dt}\\n\")\n",
    "\n",
    "    response = requests.get(f'https://data.traffic.hereapi.com/v7/flow?locationReferencing=shape&in={BBOX}&apiKey={YOUR_API_KEY}&advancedFeatures=deepCoverage,lanes')\n",
    "\n",
    "    print(f\"Response status is: {response.status_code}\\n\")\n",
    "\n",
    "    with open(f'data_{tmstm}.json', 'w') as outfile:\n",
    "        if response.status_code == 200:\n",
    "            print(f'SAVING: data_{tmstm}.json\\n')\n",
    "            data = json.loads(response.content)\n",
    "            json.dump(data, outfile)\n",
    "            print(\"COMPLETED\\n\")\n",
    "        else:\n",
    "            json.dump(str(response.status_code))\n",
    "\n",
    "sched.add_job(job, \n",
    "              'interval', \n",
    "              minutes = MINUTES, \n",
    "              start_date = START_DATE_1, \n",
    "              end_date = END_DATE_1, \n",
    "              timezone = BERGEN_TIME_ZONE)\n",
    "\n",
    "sched.add_job(job, \n",
    "              'interval', \n",
    "              minutes = MINUTES, \n",
    "              start_date = START_DATE_2, \n",
    "              end_date = END_DATE_2, \n",
    "              timezone = BERGEN_TIME_ZONE)\n",
    "\n",
    "sched.add_job(job, \n",
    "              'interval', \n",
    "              minutes = MINUTES, \n",
    "              start_date = START_DATE_3, \n",
    "              end_date = END_DATE_3, \n",
    "              timezone = BERGEN_TIME_ZONE)\n",
    "\n",
    "sched.start()"
   ]
  }
 ],
 "metadata": {
  "kernelspec": {
   "display_name": "kedro-env",
   "language": "python",
   "name": "python3"
  },
  "language_info": {
   "codemirror_mode": {
    "name": "ipython",
    "version": 3
   },
   "file_extension": ".py",
   "mimetype": "text/x-python",
   "name": "python",
   "nbconvert_exporter": "python",
   "pygments_lexer": "ipython3",
   "version": "3.10.11"
  },
  "orig_nbformat": 4
 },
 "nbformat": 4,
 "nbformat_minor": 2
}
