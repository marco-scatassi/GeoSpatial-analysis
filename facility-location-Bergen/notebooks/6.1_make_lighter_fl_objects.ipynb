{
 "cells": [
  {
   "cell_type": "markdown",
   "metadata": {},
   "source": [
    "## Import"
   ]
  },
  {
   "cell_type": "code",
   "execution_count": 2,
   "metadata": {},
   "outputs": [],
   "source": [
    "import sys\n",
    "sys.path.append(rf'\\\\Pund\\Stab$\\guest801981\\Documents\\GitHub\\GeoSpatial-analysis\\facility-location-Bergen\\src\\facility_location_Bergen\\custome_modules')"
   ]
  },
  {
   "cell_type": "code",
   "execution_count": 1,
   "metadata": {},
   "outputs": [],
   "source": [
    "import warnings\n",
    "from shapely.errors import ShapelyDeprecationWarning\n",
    "# Ignore the ShapelyDeprecationWarning\n",
    "warnings.filterwarnings(\"ignore\", category=ShapelyDeprecationWarning)"
   ]
  },
  {
   "cell_type": "code",
   "execution_count": 3,
   "metadata": {},
   "outputs": [
    {
     "name": "stdout",
     "output_type": "stream",
     "text": [
      "[    0.00] Initializing mpi-sppy\n"
     ]
    }
   ],
   "source": [
    "import os\n",
    "import copy\n",
    "import dill\n",
    "import numpy as np\n",
    "import pandas as pd\n",
    "import pickle as pkl\n",
    "import networkx as nx\n",
    "from log import print_INFO_message_timestamp, print_INFO_message\n",
    "from facility_location import AdjacencyMatrix, FacilityLocation"
   ]
  },
  {
   "cell_type": "markdown",
   "metadata": {},
   "source": [
    "## Solution analysis"
   ]
  },
  {
   "cell_type": "markdown",
   "metadata": {},
   "source": [
    "### Loading data"
   ]
  },
  {
   "cell_type": "markdown",
   "metadata": {},
   "source": [
    "#### Exact solution"
   ]
  },
  {
   "cell_type": "code",
   "execution_count": 4,
   "metadata": {},
   "outputs": [],
   "source": [
    "times = [\"morning\", \"midday\", \"afternoon\", \"all_day\", \"all_day_free_flow\", ]\n",
    "facilities_number = 2"
   ]
  },
  {
   "cell_type": "code",
   "execution_count": 5,
   "metadata": {},
   "outputs": [
    {
     "name": "stdout",
     "output_type": "stream",
     "text": [
      "[09/13/23 17:09:52] INFO     Loading exact solutions...\n",
      "                    INFO     Loading exact solution for morning\n",
      "                    INFO     Loading exact solution for midday\n",
      "                    INFO     Loading exact solution for afternoon\n",
      "                    INFO     Loading exact solution for all_day\n",
      "                    INFO     Loading exact solution for all_day_free_flow\n"
     ]
    }
   ],
   "source": [
    "print_INFO_message_timestamp(\"Loading exact solutions...\")\n",
    "\n",
    "fls_exact = {}\n",
    "\n",
    "for time in times:\n",
    "    print_INFO_message(f\"Loading exact solution for {time}\")\n",
    "    path = rf\"\\\\Pund\\Stab$\\guest801981\\Documents\\GitHub\\GeoSpatial-analysis\\facility-location-Bergen\\data\\07_model_output\\{facilities_number}_locations\\deterministic_exact_solutions\\exact_solution_{time}.pkl\"\n",
    "    fls_exact[time] = FacilityLocation.load(path)"
   ]
  },
  {
   "cell_type": "code",
   "execution_count": 6,
   "metadata": {},
   "outputs": [
    {
     "name": "stdout",
     "output_type": "stream",
     "text": [
      "[09/13/23 17:11:39] INFO     Making light exact solution for morning\n",
      "[09/13/23 17:11:49] INFO     Making light exact solution for midday\n",
      "[09/13/23 17:12:01] INFO     Making light exact solution for afternoon\n",
      "[09/13/23 17:12:13] INFO     Making light exact solution for all_day\n",
      "[09/13/23 17:12:24] INFO     Making light exact solution for all_day_free_flow\n"
     ]
    }
   ],
   "source": [
    "light_fls_exact = {}\n",
    "\n",
    "for time in times:\n",
    "    print_INFO_message_timestamp(f\"Making light exact solution for {time}\")\n",
    "    light_fls_exact[time] = copy.deepcopy(fls_exact[time])\n",
    "    del light_fls_exact[time].adjacency_matrix\n",
    "    del light_fls_exact[time].model\n",
    "    del light_fls_exact[time].instance"
   ]
  },
  {
   "cell_type": "code",
   "execution_count": 7,
   "metadata": {},
   "outputs": [
    {
     "name": "stdout",
     "output_type": "stream",
     "text": [
      "[09/13/23 17:12:35] INFO     Saving light exact solutions...\n",
      "                    INFO     Saving light exact solution for morning\n",
      "                    INFO     Saving light exact solution for midday\n",
      "                    INFO     Saving light exact solution for afternoon\n",
      "                    INFO     Saving light exact solution for all_day\n",
      "                    INFO     Saving light exact solution for all_day_free_flow\n"
     ]
    }
   ],
   "source": [
    "print_INFO_message_timestamp(\"Saving light exact solutions...\")\n",
    "\n",
    "for time in times:\n",
    "    print_INFO_message(f\"Saving light exact solution for {time}\")\n",
    "    path = rf\"\\\\Pund\\Stab$\\guest801981\\Documents\\GitHub\\GeoSpatial-analysis\\facility-location-Bergen\\data\\07_model_output\\{facilities_number}_locations\\deterministic_exact_solutions\\light_exact_solution_{time}.pkl\"\n",
    "    light_fls_exact[time].save(path)"
   ]
  },
  {
   "attachments": {},
   "cell_type": "markdown",
   "metadata": {},
   "source": [
    "## Super light"
   ]
  },
  {
   "cell_type": "code",
   "execution_count": 8,
   "metadata": {},
   "outputs": [],
   "source": [
    "# print_INFO_message_timestamp(\"Loading light exact solutions...\")\n",
    "# light_fls_exact = {}\n",
    "\n",
    "# for time in times:\n",
    "#     print_INFO_message(f\"Loading light exact solution for {time}\")\n",
    "#     path = rf\"\\\\Pund\\Stab$\\guest801981\\Documents\\GitHub\\GeoSpatial-analysis\\facility-location-Bergen\\data\\07_model_output\\{facilities_number}_locations\\deterministic_exact_solutions\\light_exact_solution_{time}.pkl\"\n",
    "#     light_fls_exact[time] = FacilityLocation.load(path)"
   ]
  },
  {
   "cell_type": "code",
   "execution_count": 9,
   "metadata": {},
   "outputs": [
    {
     "name": "stdout",
     "output_type": "stream",
     "text": [
      "[09/13/23 17:12:36] INFO     Making light exact solution for morning\n",
      "[09/13/23 17:12:36] INFO     Making light exact solution for midday\n",
      "[09/13/23 17:12:36] INFO     Making light exact solution for afternoon\n",
      "[09/13/23 17:12:36] INFO     Making light exact solution for all_day\n",
      "[09/13/23 17:12:36] INFO     Making light exact solution for all_day_free_flow\n"
     ]
    }
   ],
   "source": [
    "super_light_fls_exact = {}\n",
    "\n",
    "for time in times:\n",
    "    print_INFO_message_timestamp(f\"Making light exact solution for {time}\")\n",
    "    super_light_fls_exact[time] = copy.deepcopy(light_fls_exact[time])\n",
    "    del super_light_fls_exact[time].result"
   ]
  },
  {
   "cell_type": "code",
   "execution_count": 10,
   "metadata": {},
   "outputs": [
    {
     "name": "stdout",
     "output_type": "stream",
     "text": [
      "[09/13/23 17:12:36] INFO     Saving light exact solutions...\n",
      "                    INFO     Saving light exact solution for morning\n",
      "                    INFO     Saving light exact solution for midday\n",
      "                    INFO     Saving light exact solution for afternoon\n",
      "                    INFO     Saving light exact solution for all_day\n",
      "                    INFO     Saving light exact solution for all_day_free_flow\n"
     ]
    }
   ],
   "source": [
    "print_INFO_message_timestamp(\"Saving light exact solutions...\")\n",
    "\n",
    "for time in times:\n",
    "    print_INFO_message(f\"Saving light exact solution for {time}\")\n",
    "    path = rf\"\\\\Pund\\Stab$\\guest801981\\Documents\\GitHub\\GeoSpatial-analysis\\facility-location-Bergen\\data\\07_model_output\\{facilities_number}_locations\\deterministic_exact_solutions\\super_light_exact_solution_{time}.pkl\"\n",
    "    super_light_fls_exact[time].save(path)"
   ]
  },
  {
   "cell_type": "code",
   "execution_count": 11,
   "metadata": {},
   "outputs": [],
   "source": [
    "del fls_exact\n",
    "del light_fls_exact\n",
    "del super_light_fls_exact"
   ]
  }
 ],
 "metadata": {
  "kernelspec": {
   "display_name": "kedro_env",
   "language": "python",
   "name": "python3"
  },
  "language_info": {
   "codemirror_mode": {
    "name": "ipython",
    "version": 3
   },
   "file_extension": ".py",
   "mimetype": "text/x-python",
   "name": "python",
   "nbconvert_exporter": "python",
   "pygments_lexer": "ipython3",
   "version": "3.10.11"
  },
  "orig_nbformat": 4
 },
 "nbformat": 4,
 "nbformat_minor": 2
}
