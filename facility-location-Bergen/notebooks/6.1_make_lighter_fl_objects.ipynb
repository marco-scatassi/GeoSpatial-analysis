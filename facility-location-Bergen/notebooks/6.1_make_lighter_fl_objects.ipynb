{
 "cells": [
  {
   "cell_type": "markdown",
   "metadata": {},
   "source": [
    "## Import"
   ]
  },
  {
   "cell_type": "code",
   "execution_count": 4,
   "metadata": {},
   "outputs": [],
   "source": [
    "import sys\n",
    "sys.path.append(rf'\\\\Pund\\Stab$\\guest801968\\Documents\\GitHub\\GeoSpatial-analysis\\facility-location-Bergen\\src\\facility_location_Bergen\\custome_modules')"
   ]
  },
  {
   "cell_type": "code",
   "execution_count": 5,
   "metadata": {},
   "outputs": [],
   "source": [
    "import warnings\n",
    "from shapely.errors import ShapelyDeprecationWarning\n",
    "# Ignore the ShapelyDeprecationWarning\n",
    "warnings.filterwarnings(\"ignore\", category=ShapelyDeprecationWarning)"
   ]
  },
  {
   "cell_type": "code",
   "execution_count": 6,
   "metadata": {},
   "outputs": [
    {
     "name": "stdout",
     "output_type": "stream",
     "text": [
      "[    0.00] Initializing mpi-sppy\n"
     ]
    }
   ],
   "source": [
    "import os\n",
    "import copy\n",
    "import dill\n",
    "import numpy as np\n",
    "import pandas as pd\n",
    "import pickle as pkl\n",
    "import networkx as nx\n",
    "from log import print_INFO_message_timestamp, print_INFO_message\n",
    "from facility_location import AdjacencyMatrix, FacilityLocation"
   ]
  },
  {
   "cell_type": "markdown",
   "metadata": {},
   "source": [
    "## Solution analysis"
   ]
  },
  {
   "cell_type": "markdown",
   "metadata": {},
   "source": [
    "### Loading data"
   ]
  },
  {
   "cell_type": "markdown",
   "metadata": {},
   "source": [
    "#### Exact solution"
   ]
  },
  {
   "cell_type": "code",
   "execution_count": 14,
   "metadata": {},
   "outputs": [],
   "source": [
    "times = [\"morning\", \"midday\", \"afternoon\"]#, \"all_day\", \"all_day_free_flow\", ]\n",
    "facilities_number = 1"
   ]
  },
  {
   "cell_type": "code",
   "execution_count": 15,
   "metadata": {},
   "outputs": [
    {
     "name": "stdout",
     "output_type": "stream",
     "text": [
      "[09/05/23 15:58:14] INFO     Loading exact solutions...\n",
      "                    INFO     Loading exact solution for morning\n",
      "                    INFO     Loading exact solution for midday\n",
      "                    INFO     Loading exact solution for afternoon\n"
     ]
    }
   ],
   "source": [
    "print_INFO_message_timestamp(\"Loading exact solutions...\")\n",
    "\n",
    "fls_exact = {}\n",
    "\n",
    "for time in times:\n",
    "    print_INFO_message(f\"Loading exact solution for {time}\")\n",
    "    path = rf\"\\\\Pund\\Stab$\\guest801968\\Documents\\GitHub\\GeoSpatial-analysis\\facility-location-Bergen\\data\\07_model_output\\{facilities_number}_locations\\deterministic_exact_solutions\\exact_solution_{time}.pkl\"\n",
    "    fls_exact[time] = FacilityLocation.load(path)"
   ]
  },
  {
   "cell_type": "code",
   "execution_count": 16,
   "metadata": {},
   "outputs": [
    {
     "name": "stdout",
     "output_type": "stream",
     "text": [
      "[09/05/23 15:59:13] INFO     Making light exact solution for morning\n",
      "[09/05/23 15:59:42] INFO     Making light exact solution for midday\n",
      "[09/05/23 16:00:03] INFO     Making light exact solution for afternoon\n"
     ]
    }
   ],
   "source": [
    "light_fls_exact = {}\n",
    "\n",
    "for time in times:\n",
    "    print_INFO_message_timestamp(f\"Making light exact solution for {time}\")\n",
    "    light_fls_exact[time] = copy.deepcopy(fls_exact[time])\n",
    "    del light_fls_exact[time].adjacency_matrix\n",
    "    del light_fls_exact[time].model\n",
    "    del light_fls_exact[time].instance"
   ]
  },
  {
   "cell_type": "code",
   "execution_count": 17,
   "metadata": {},
   "outputs": [
    {
     "name": "stdout",
     "output_type": "stream",
     "text": [
      "[09/05/23 16:00:27] INFO     Saving light exact solutions...\n",
      "                    INFO     Saving light exact solution for morning\n",
      "                    INFO     Saving light exact solution for midday\n",
      "                    INFO     Saving light exact solution for afternoon\n"
     ]
    }
   ],
   "source": [
    "print_INFO_message_timestamp(\"Saving light exact solutions...\")\n",
    "\n",
    "for time in times:\n",
    "    print_INFO_message(f\"Saving light exact solution for {time}\")\n",
    "    path = rf\"\\\\Pund\\Stab$\\guest801968\\Documents\\GitHub\\GeoSpatial-analysis\\facility-location-Bergen\\data\\07_model_output\\{facilities_number}_locations\\deterministic_exact_solutions\\light_exact_solution_{time}.pkl\"\n",
    "    light_fls_exact[time].save(path)"
   ]
  },
  {
   "attachments": {},
   "cell_type": "markdown",
   "metadata": {},
   "source": [
    "## Super light"
   ]
  },
  {
   "cell_type": "code",
   "execution_count": 78,
   "metadata": {},
   "outputs": [
    {
     "name": "stdout",
     "output_type": "stream",
     "text": [
      "[07/06/23 07:59:32] INFO     Loading light exact solutions...\n",
      "                    INFO     Loading light exact solution for midday\n"
     ]
    }
   ],
   "source": [
    "print_INFO_message_timestamp(\"Loading light exact solutions...\")\n",
    "light_fls_exact = {}\n",
    "\n",
    "for time in times:\n",
    "    print_INFO_message(f\"Loading light exact solution for {time}\")\n",
    "    path = rf\"\\\\Pund\\Stab$\\guest801968\\Documents\\GitHub\\GeoSpatial-analysis\\facility-location-Bergen\\data\\07_model_output\\{facilities_number}_locations\\deterministic_exact_solutions\\light_exact_solution_{time}.pkl\"\n",
    "    light_fls_exact[time] = FacilityLocation.load(path)"
   ]
  },
  {
   "cell_type": "code",
   "execution_count": 18,
   "metadata": {},
   "outputs": [
    {
     "name": "stdout",
     "output_type": "stream",
     "text": [
      "[09/05/23 16:00:34] INFO     Making light exact solution for morning\n",
      "[09/05/23 16:00:34] INFO     Making light exact solution for midday\n",
      "[09/05/23 16:00:34] INFO     Making light exact solution for afternoon\n"
     ]
    }
   ],
   "source": [
    "super_light_fls_exact = {}\n",
    "\n",
    "for time in times:\n",
    "    print_INFO_message_timestamp(f\"Making light exact solution for {time}\")\n",
    "    super_light_fls_exact[time] = copy.deepcopy(light_fls_exact[time])\n",
    "    del super_light_fls_exact[time].result"
   ]
  },
  {
   "cell_type": "code",
   "execution_count": 19,
   "metadata": {},
   "outputs": [
    {
     "name": "stdout",
     "output_type": "stream",
     "text": [
      "[09/05/23 16:00:35] INFO     Saving light exact solutions...\n",
      "                    INFO     Saving light exact solution for morning\n",
      "                    INFO     Saving light exact solution for midday\n",
      "                    INFO     Saving light exact solution for afternoon\n"
     ]
    }
   ],
   "source": [
    "print_INFO_message_timestamp(\"Saving light exact solutions...\")\n",
    "\n",
    "for time in times:\n",
    "    print_INFO_message(f\"Saving light exact solution for {time}\")\n",
    "    path = rf\"\\\\Pund\\Stab$\\guest801968\\Documents\\GitHub\\GeoSpatial-analysis\\facility-location-Bergen\\data\\07_model_output\\{facilities_number}_locations\\deterministic_exact_solutions\\super_light_exact_solution_{time}.pkl\"\n",
    "    super_light_fls_exact[time].save(path)"
   ]
  }
 ],
 "metadata": {
  "kernelspec": {
   "display_name": "kedro_env",
   "language": "python",
   "name": "python3"
  },
  "language_info": {
   "codemirror_mode": {
    "name": "ipython",
    "version": 3
   },
   "file_extension": ".py",
   "mimetype": "text/x-python",
   "name": "python",
   "nbconvert_exporter": "python",
   "pygments_lexer": "ipython3",
   "version": "3.10.11"
  },
  "orig_nbformat": 4
 },
 "nbformat": 4,
 "nbformat_minor": 2
}
