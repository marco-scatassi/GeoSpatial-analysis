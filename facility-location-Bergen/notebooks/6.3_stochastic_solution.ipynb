{
 "cells": [
  {
   "attachments": {},
   "cell_type": "markdown",
   "metadata": {},
   "source": [
    "## Import"
   ]
  },
  {
   "cell_type": "code",
   "execution_count": 1,
   "metadata": {},
   "outputs": [],
   "source": [
    "import sys\n",
    "sys.path.append(r'C:\\Users\\Marco\\Documents\\GitHub\\GeoSpatial-analysis\\facility-location-Bergen\\src\\facility_location_Bergen\\custome_modules')"
   ]
  },
  {
   "cell_type": "code",
   "execution_count": 2,
   "metadata": {},
   "outputs": [],
   "source": [
    "import warnings\n",
    "from shapely.errors import ShapelyDeprecationWarning\n",
    "# Ignore the ShapelyDeprecationWarning\n",
    "warnings.filterwarnings(\"ignore\", category=ShapelyDeprecationWarning)"
   ]
  },
  {
   "cell_type": "code",
   "execution_count": 3,
   "metadata": {},
   "outputs": [],
   "source": [
    "import os\n",
    "import dill\n",
    "import random\n",
    "import inspect\n",
    "import numpy as np\n",
    "import pandas as pd\n",
    "import pickle as pkl\n",
    "import geopandas as gpd\n",
    "import pyomo.environ as pyo\n",
    "from shapely.geometry import Point\n",
    "from log import print_INFO_message_timestamp, print_INFO_message\n",
    "from facility_location import AdjacencyMatrix, StochasticFacilityLocation\n",
    "from retrieve_global_parameters import retrieve_adj_matrix_path"
   ]
  },
  {
   "attachments": {},
   "cell_type": "markdown",
   "metadata": {},
   "source": [
    "## Useful functions"
   ]
  },
  {
   "cell_type": "code",
   "execution_count": 4,
   "metadata": {},
   "outputs": [],
   "source": [
    "def sample_idx(idxs, sample_ratio=0.1):\n",
    "    n = len(idxs)\n",
    "    s = random.sample(idxs, int(n*sample_ratio))\n",
    "    return s"
   ]
  },
  {
   "cell_type": "code",
   "execution_count": 5,
   "metadata": {},
   "outputs": [],
   "source": [
    "def sample_matrix(matrix, idx_sample):\n",
    "    n_sample = len(idx_sample)\n",
    "    sample_matrix = np.zeros((n_sample, n_sample))\n",
    "    for i, r in enumerate(matrix[idx_sample, :]):\n",
    "        sample_matrix[i,:] = r[idx_sample]\n",
    "        \n",
    "    return sample_matrix"
   ]
  },
  {
   "cell_type": "code",
   "execution_count": 6,
   "metadata": {},
   "outputs": [],
   "source": [
    "def sample_coords(coordinates, idx_sample):\n",
    "    sample_coords = coordinates.iloc[idx_sample]\n",
    "    return sample_coords"
   ]
  },
  {
   "cell_type": "code",
   "execution_count": 7,
   "metadata": {},
   "outputs": [],
   "source": [
    "times = [\"morning\", \"midday\", \"afternoon\"]"
   ]
  },
  {
   "cell_type": "code",
   "execution_count": 8,
   "metadata": {},
   "outputs": [
    {
     "name": "stdout",
     "output_type": "stream",
     "text": [
      "                    INFO     Loading avg graph for all_day\n"
     ]
    }
   ],
   "source": [
    "average_graphs = {}\n",
    "time = \"all_day\"\n",
    "\n",
    "print_INFO_message(f\"Loading avg graph for {time}\")\n",
    "path = rf\"C:\\Users\\Marco\\Documents\\GitHub\\GeoSpatial-analysis\\facility-location-Bergen\\data\\03_primary\\average_graph_{time}.pkl\"\n",
    "with open(path, \"rb\") as f:\n",
    "    average_graphs[time] = pkl.load(f)"
   ]
  },
  {
   "cell_type": "code",
   "execution_count": 9,
   "metadata": {},
   "outputs": [],
   "source": [
    "adj_paths = {time: r\"C:/Users/Marco/Documents/GitHub/GeoSpatial-analysis/facility-location-Bergen/\" + retrieve_adj_matrix_path(time) for time in times}"
   ]
  },
  {
   "cell_type": "code",
   "execution_count": 10,
   "metadata": {},
   "outputs": [],
   "source": [
    "adj_matricies = {time: None for time in times}\n",
    "\n",
    "for time in times:\n",
    "    with open(adj_paths[time], \"rb\") as f:\n",
    "        adj_matricies[time] = pkl.load(f)"
   ]
  },
  {
   "cell_type": "code",
   "execution_count": 11,
   "metadata": {},
   "outputs": [],
   "source": [
    "weighted_adj_matricies = {time: AdjacencyMatrix(adj_matrix=adj_matricies[time],\n",
    "                                  kind=\"empirical\",\n",
    "                                  epsg=None,\n",
    "                                  mode=\"time\") for time in times}"
   ]
  },
  {
   "attachments": {},
   "cell_type": "markdown",
   "metadata": {},
   "source": [
    "## Problem initialization"
   ]
  },
  {
   "attachments": {},
   "cell_type": "markdown",
   "metadata": {},
   "source": [
    "It's not possible to solve the problem exactly using all the nodes in the graph. The problem is too big. We can try to solve it using a subset of the nodes."
   ]
  },
  {
   "attachments": {},
   "cell_type": "markdown",
   "metadata": {},
   "source": [
    "random.seed(324324)"
   ]
  },
  {
   "cell_type": "code",
   "execution_count": 12,
   "metadata": {},
   "outputs": [],
   "source": [
    "ratio1 = 1/50\n",
    "ratio2= 1/20"
   ]
  },
  {
   "cell_type": "code",
   "execution_count": 13,
   "metadata": {},
   "outputs": [],
   "source": [
    "coordinates = pd.Series(list(average_graphs[\"all_day\"].nodes()))\n",
    "coordinates = coordinates.apply(lambda x: Point(x))\n",
    "coordinates = gpd.GeoDataFrame(geometry=coordinates)"
   ]
  },
  {
   "cell_type": "code",
   "execution_count": 14,
   "metadata": {},
   "outputs": [],
   "source": [
    "idx_sampled = sample_idx(list(coordinates.index), ratio1)\n",
    "idx_sampled2 = sample_idx(idx_sampled, ratio2)\n",
    "coordinates_sampled = sample_coords(coordinates, idx_sampled)\n",
    "coordinates_sampled2 = sample_coords(coordinates, idx_sampled2)"
   ]
  },
  {
   "cell_type": "code",
   "execution_count": 15,
   "metadata": {},
   "outputs": [],
   "source": [
    "n_locations = 3"
   ]
  },
  {
   "cell_type": "code",
   "execution_count": 16,
   "metadata": {},
   "outputs": [],
   "source": [
    "probabilities = {time: 1/len(weighted_adj_matricies) for time in times}"
   ]
  },
  {
   "cell_type": "code",
   "execution_count": 17,
   "metadata": {},
   "outputs": [],
   "source": [
    "fl_stochastic = StochasticFacilityLocation(coordinates=coordinates_sampled,\n",
    "                                           n_of_locations_to_choose=n_locations,\n",
    "                                           candidate_coordinates=coordinates_sampled2,)"
   ]
  },
  {
   "cell_type": "code",
   "execution_count": 18,
   "metadata": {},
   "outputs": [
    {
     "name": "stdout",
     "output_type": "stream",
     "text": [
      "                    INFO     Defining the abstract model...\n",
      "[06/19/23 14:09:25] INFO     Initializing data...\n",
      "[06/19/23 14:09:25] INFO     Solving the model...\n",
      "[   98.36] Initializing SPBase\n"
     ]
    },
    {
     "name": "stdout",
     "output_type": "stream",
     "text": [
      "Current Iteration: 1 Time Elapsed:    0.00 Current Objective: -Inf\n",
      "Current Iteration: 2 Time Elapsed:    0.16 Time Spent on Last Master:    0.02 Time Spent Generating Last Cut Set:    0.12 Current Objective: 1300.13\n",
      "Current Iteration: 3 Time Elapsed:    0.29 Time Spent on Last Master:    0.05 Time Spent Generating Last Cut Set:    0.08 Current Objective: 1300.13\n",
      "Current Iteration: 4 Time Elapsed:    0.44 Time Spent on Last Master:    0.04 Time Spent Generating Last Cut Set:    0.11 Current Objective: 1300.13\n",
      "Converged in 4 iterations.\n",
      "Total Time Elapsed:    0.69 Time Spent on Last Master:    0.20 Time spent verifying second stage:    0.05 Final Objective: 1370.40\n",
      "morning x[305] 0.0\n",
      "morning x[1868] 1.0\n",
      "morning x[3462] 1.0\n",
      "morning x[4047] 1.0\n",
      "morning x[5021] 0.0\n",
      "midday x[305] 0.0\n",
      "midday x[1868] 1.0\n",
      "midday x[3462] 1.0\n",
      "midday x[4047] 1.0\n",
      "midday x[5021] 0.0\n",
      "afternoon x[305] 0.0\n",
      "afternoon x[1868] 1.0\n",
      "afternoon x[3462] 1.0\n",
      "afternoon x[4047] 1.0\n",
      "afternoon x[5021] 0.0\n"
     ]
    }
   ],
   "source": [
    "fl_stochastic.solve(scenarios_data=weighted_adj_matricies,\n",
    "                    scenarioProbabilities=probabilities,\n",
    "                    method=\"LS\",\n",
    "                    max_iter=10,)"
   ]
  },
  {
   "cell_type": "code",
   "execution_count": 19,
   "metadata": {},
   "outputs": [
    {
     "data": {
      "text/plain": [
       "dict_keys(['coordinates', 'candidate_coordinates', 'n_of_locations_to_choose', 'n_of_demand_points', 'model', 'scenarios_names', 'scenarios_probabilities', 'solution_value', 'locations_index', 'locations_coordinates', 'first_stage_solution', 'second_stage_solution', 'solver_status', 'computation_time'])"
      ]
     },
     "execution_count": 19,
     "metadata": {},
     "output_type": "execute_result"
    }
   ],
   "source": [
    "fl_stochastic.__dict__.keys()"
   ]
  },
  {
   "cell_type": "code",
   "execution_count": 27,
   "metadata": {},
   "outputs": [],
   "source": [
    "fl_stochastic.save(\"prova.pkl\")"
   ]
  },
  {
   "cell_type": "code",
   "execution_count": 22,
   "metadata": {},
   "outputs": [],
   "source": [
    "n_locations = 1"
   ]
  },
  {
   "cell_type": "code",
   "execution_count": 28,
   "metadata": {},
   "outputs": [],
   "source": [
    "fl = StochasticFacilityLocation.load(rf\"prova.pkl\")"
   ]
  }
 ],
 "metadata": {
  "kernelspec": {
   "display_name": "Kedro (facility_location_Bergen)",
   "language": "python",
   "name": "kedro_facility_location_bergen"
  },
  "language_info": {
   "codemirror_mode": {
    "name": "ipython",
    "version": 3
   },
   "file_extension": ".py",
   "mimetype": "text/x-python",
   "name": "python",
   "nbconvert_exporter": "python",
   "pygments_lexer": "ipython3",
   "version": "3.10.11"
  },
  "orig_nbformat": 4
 },
 "nbformat": 4,
 "nbformat_minor": 2
}
