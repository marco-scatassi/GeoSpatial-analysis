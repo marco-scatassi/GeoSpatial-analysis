{
 "cells": [
  {
   "attachments": {},
   "cell_type": "markdown",
   "metadata": {},
   "source": [
    "## Import"
   ]
  },
  {
   "cell_type": "code",
   "execution_count": 1,
   "metadata": {},
   "outputs": [],
   "source": [
    "import sys\n",
    "\n",
    "sys.path.append('C:\\\\Users\\\\Marco\\\\Documents\\\\GitHub\\\\GeoSpatial-analysis\\\\modules')"
   ]
  },
  {
   "cell_type": "code",
   "execution_count": 2,
   "metadata": {},
   "outputs": [],
   "source": [
    "import json\n",
    "import geojson\n",
    "import numpy as np\n",
    "import pandas as pd\n",
    "import pymongo as pm\n",
    "import geopandas as gpd\n",
    "from pymongo_get_database import get_database"
   ]
  },
  {
   "attachments": {},
   "cell_type": "markdown",
   "metadata": {},
   "source": [
    "## Retrieve DB and Collections"
   ]
  },
  {
   "cell_type": "code",
   "execution_count": 28,
   "metadata": {},
   "outputs": [],
   "source": [
    "day = \"20_04_2023\""
   ]
  },
  {
   "cell_type": "code",
   "execution_count": 29,
   "metadata": {},
   "outputs": [],
   "source": [
    "# retrieve database and collections\n",
    "db_name = \"bergenTrafficFlowData\"\n",
    "db = get_database(db_name)\n",
    "\n",
    "collection_name_0 = \"raw_data_\"+day\n",
    "collection_name_1 = \"processed_data_\"+day\n",
    "\n",
    "collection_raw = db[collection_name_0]\n",
    "collection_processed = db[collection_name_1]"
   ]
  },
  {
   "attachments": {},
   "cell_type": "markdown",
   "metadata": {},
   "source": [
    "## Query Data"
   ]
  },
  {
   "attachments": {},
   "cell_type": "markdown",
   "metadata": {},
   "source": [
    "We wanna verify if each road segment has been retrieved the same number of times (that should be equals to \"n\")."
   ]
  },
  {
   "cell_type": "code",
   "execution_count": 30,
   "metadata": {},
   "outputs": [],
   "source": [
    "distinct_geometry_values = collection_processed.distinct(\"geometry\")"
   ]
  },
  {
   "cell_type": "code",
   "execution_count": 31,
   "metadata": {},
   "outputs": [
    {
     "data": {
      "text/plain": [
       "924"
      ]
     },
     "execution_count": 31,
     "metadata": {},
     "output_type": "execute_result"
    }
   ],
   "source": [
    "len(distinct_geometry_values)"
   ]
  },
  {
   "cell_type": "code",
   "execution_count": 32,
   "metadata": {},
   "outputs": [],
   "source": [
    "geometries_count = pd.Series([collection_processed.count_documents({\"geometry\": geometry}) for geometry in distinct_geometry_values])"
   ]
  },
  {
   "attachments": {},
   "cell_type": "markdown",
   "metadata": {},
   "source": [
    "There are 887 distinct geometries (i.e. road segments), but:\n",
    "- only 847 of the 878 geometries have exactly \"n\" document associated with them\n",
    "- 4 geometries have more than \"n\" documents associated with them (probably both directions of each geometry has been collected)\n",
    "- the remaining geometries have less than \"n\" documents associated with them (i.e. not in each time the same road segment has been collected)"
   ]
  },
  {
   "cell_type": "code",
   "execution_count": 36,
   "metadata": {},
   "outputs": [
    {
     "data": {
      "text/plain": [
       "1       24\n",
       "2       12\n",
       "3        3\n",
       "4        4\n",
       "5        4\n",
       "6        4\n",
       "7        2\n",
       "10       5\n",
       "11       3\n",
       "14       1\n",
       "20       1\n",
       "51       1\n",
       "53       1\n",
       "54       1\n",
       "57       1\n",
       "58       2\n",
       "60       4\n",
       "63     847\n",
       "126      4\n",
       "Name: count, dtype: int64"
      ]
     },
     "execution_count": 36,
     "metadata": {},
     "output_type": "execute_result"
    }
   ],
   "source": [
    "geometries_count.value_counts().sort_index()"
   ]
  },
  {
   "attachments": {},
   "cell_type": "markdown",
   "metadata": {},
   "source": [
    "We exlore the 4 geometries that have more than \"n\" documents associated with them."
   ]
  },
  {
   "cell_type": "code",
   "execution_count": 37,
   "metadata": {},
   "outputs": [],
   "source": [
    "# n is the number of api_calls done to get the data\n",
    "n = 63"
   ]
  },
  {
   "cell_type": "code",
   "execution_count": 38,
   "metadata": {},
   "outputs": [],
   "source": [
    "g_gtn_index = geometries_count\\\n",
    "    .where(geometries_count > n)\\\n",
    "    .dropna()\\\n",
    "    .index"
   ]
  },
  {
   "cell_type": "code",
   "execution_count": 39,
   "metadata": {},
   "outputs": [],
   "source": [
    "g_gtn = [distinct_geometry_values[i] for i in g_gtn_index]"
   ]
  },
  {
   "cell_type": "code",
   "execution_count": 40,
   "metadata": {},
   "outputs": [],
   "source": [
    "g_gtn_cursors = []\n",
    "\n",
    "for geometry in g_gtn:\n",
    "    g_gtn_cursors.append(collection_processed.find({\"geometry\": geometry}))"
   ]
  },
  {
   "cell_type": "code",
   "execution_count": 41,
   "metadata": {},
   "outputs": [],
   "source": [
    "g_gtn_distinct_description = []\n",
    "\n",
    "for cursor in g_gtn_cursors:\n",
    "    g_gtn_distinct_description.append(cursor.distinct(\"description\"))"
   ]
  },
  {
   "cell_type": "code",
   "execution_count": 42,
   "metadata": {},
   "outputs": [
    {
     "data": {
      "text/plain": [
       "[['Avkjøring mot Sentrum', 'Knappetunnelen'],\n",
       " ['Avkjøring mot Flesland', 'Straume'],\n",
       " ['Avkjøring mot Sentrum', 'Knappetunnelen'],\n",
       " ['Avkjøring mot Flesland', 'Straume']]"
      ]
     },
     "execution_count": 42,
     "metadata": {},
     "output_type": "execute_result"
    }
   ],
   "source": [
    "g_gtn_distinct_description"
   ]
  },
  {
   "attachments": {},
   "cell_type": "markdown",
   "metadata": {},
   "source": [
    "We notice that probably data in both directions of those 4 geometries has been collected. "
   ]
  },
  {
   "cell_type": "code",
   "execution_count": 43,
   "metadata": {},
   "outputs": [
    {
     "name": "stdout",
     "output_type": "stream",
     "text": [
      "Avkjøring mot Sentrum is equal to 63:  True\n",
      "Knappetunnelen is equal to 63:  True\n",
      "Avkjøring mot Flesland is equal to 63:  True\n",
      "Straume is equal to 63:  True\n",
      "Avkjøring mot Sentrum is equal to 63:  True\n",
      "Knappetunnelen is equal to 63:  True\n",
      "Avkjøring mot Flesland is equal to 63:  True\n",
      "Straume is equal to 63:  True\n"
     ]
    }
   ],
   "source": [
    "for (geometry, distinct_description) in zip(g_gtn, g_gtn_distinct_description):\n",
    "    for description in distinct_description:\n",
    "        print(description, f\"is equal to {n}: \", collection_processed.count_documents({\"geometry\": geometry, \"description\": description})==n)"
   ]
  },
  {
   "attachments": {},
   "cell_type": "markdown",
   "metadata": {},
   "source": [
    "Still, we are going to check wether or not the documents are duplicated when excluding the fields \"_id\" and \"description\"."
   ]
  },
  {
   "cell_type": "code",
   "execution_count": 44,
   "metadata": {},
   "outputs": [],
   "source": [
    "cursor0 = []\n",
    "cursor1 = []\n",
    "\n",
    "for (geometry, distinct_description) in zip(g_gtn, g_gtn_distinct_description):\n",
    "    cursor0.append(collection_processed.find({\"geometry\": geometry, \"description\": distinct_description[0]}))\n",
    "    cursor1.append(collection_processed.find({\"geometry\": geometry, \"description\": distinct_description[1]}))"
   ]
  },
  {
   "cell_type": "code",
   "execution_count": 45,
   "metadata": {},
   "outputs": [],
   "source": [
    "keys = [\"currentFlow\"]#, \"sourceUpdated\", \"api_call_time\", \"geometry\", \"length\"]"
   ]
  },
  {
   "attachments": {},
   "cell_type": "markdown",
   "metadata": {},
   "source": [
    "We can se that the field \"current_flow\" is not always the same across time, so we can't say that the documents are duplicate even if the \"geometry\" fiel is the same."
   ]
  },
  {
   "cell_type": "code",
   "execution_count": 46,
   "metadata": {},
   "outputs": [
    {
     "name": "stdout",
     "output_type": "stream",
     "text": [
      "distinct documents 4\n",
      "distinct documents 15\n",
      "distinct documents 8\n",
      "distinct documents 33\n"
     ]
    }
   ],
   "source": [
    "for (c0, c1) in zip(cursor0, cursor1):\n",
    "    b = []\n",
    "    for (d0, d1) in zip(c0, c1):\n",
    "        b.append([d0[key] for key in keys]==[d1[key] for key in keys])\n",
    "\n",
    "    print(\"distinct documents\", n-sum(b))"
   ]
  },
  {
   "attachments": {},
   "cell_type": "markdown",
   "metadata": {},
   "source": [
    "## Data Cleaning"
   ]
  },
  {
   "attachments": {},
   "cell_type": "markdown",
   "metadata": {},
   "source": [
    "### Remove non complete data"
   ]
  },
  {
   "attachments": {},
   "cell_type": "markdown",
   "metadata": {},
   "source": [
    "Because we need to analyze the data in a time series fashion, we can get rid of road segments that have less than \"n\" documents associated with them."
   ]
  },
  {
   "attachments": {},
   "cell_type": "markdown",
   "metadata": {},
   "source": [
    "Therefore we are going to keep only the road segments that have exactly \"n\" or \"2n\" documents associated with them."
   ]
  },
  {
   "cell_type": "code",
   "execution_count": 47,
   "metadata": {},
   "outputs": [],
   "source": [
    "collection_name_2 = \"clean_data_\"+day\n",
    "collection_processed_2 = db[collection_name_2]"
   ]
  },
  {
   "cell_type": "code",
   "execution_count": 48,
   "metadata": {},
   "outputs": [],
   "source": [
    "g_n_index = geometries_count\\\n",
    "    .where(geometries_count%n == 0)\\\n",
    "    .dropna()\\\n",
    "    .index"
   ]
  },
  {
   "cell_type": "code",
   "execution_count": 49,
   "metadata": {},
   "outputs": [],
   "source": [
    "geometry_to_keep = [distinct_geometry_values[i] for i in g_n_index]"
   ]
  },
  {
   "cell_type": "code",
   "execution_count": 50,
   "metadata": {},
   "outputs": [],
   "source": [
    "cursor = collection_processed.find({ \"geometry\": { \"$in\": geometry_to_keep } })"
   ]
  },
  {
   "cell_type": "code",
   "execution_count": 51,
   "metadata": {},
   "outputs": [
    {
     "data": {
      "text/plain": [
       "<pymongo.results.InsertManyResult at 0x269ba4891e0>"
      ]
     },
     "execution_count": 51,
     "metadata": {},
     "output_type": "execute_result"
    }
   ],
   "source": [
    "collection_processed_2.insert_many(cursor)"
   ]
  },
  {
   "attachments": {},
   "cell_type": "markdown",
   "metadata": {},
   "source": [
    "### Remove data outside desired boundaries"
   ]
  },
  {
   "attachments": {},
   "cell_type": "markdown",
   "metadata": {},
   "source": [
    "Because data retrieved are within this BBOX = 'bbox:5.1334,60.2603,5.5563,60.5567', but we are interested in the city of Bergen, we are going to remove data outside the city boundaries."
   ]
  },
  {
   "cell_type": "code",
   "execution_count": 23,
   "metadata": {},
   "outputs": [],
   "source": [
    "bergen_polygon_vertex = [\n",
    "     [5.161214, 60.372825],\n",
    "     [5.211224, 60.398977],\n",
    "     [5.255800, 60.409478],\n",
    "     [5.240007, 60.479588],\n",
    "     [5.259292, 60.528707],\n",
    "     [5.322314, 60.545026],\n",
    "     [5.542953, 60.421316],\n",
    "     [5.486513, 60.348389],\n",
    "     [5.343004, 60.257903],\n",
    "     [5.256487, 60.240867],\n",
    "     [5.227651, 60.242074],\n",
    "     [5.190497, 60.291077],\n",
    "     [5.197846, 60.325154],\n",
    "     [5.183965, 60.337078],\n",
    "     [5.169675, 60.340815],\n",
    "     [5.161214, 60.372825]]"
   ]
  },
  {
   "cell_type": "code",
   "execution_count": 52,
   "metadata": {},
   "outputs": [],
   "source": [
    "bergen_polygon = geojson.Polygon([bergen_polygon_vertex])"
   ]
  },
  {
   "cell_type": "code",
   "execution_count": 53,
   "metadata": {},
   "outputs": [
    {
     "data": {
      "text/plain": [
       "{\"coordinates\": [[[5.161214, 60.372825], [5.211224, 60.398977], [5.2558, 60.409478], [5.240007, 60.479588], [5.259292, 60.528707], [5.322314, 60.545026], [5.542953, 60.421316], [5.486513, 60.348389], [5.343004, 60.257903], [5.256487, 60.240867], [5.227651, 60.242074], [5.190497, 60.291077], [5.197846, 60.325154], [5.183965, 60.337078], [5.169675, 60.340815], [5.161214, 60.372825]]], \"type\": \"Polygon\"}"
      ]
     },
     "execution_count": 53,
     "metadata": {},
     "output_type": "execute_result"
    }
   ],
   "source": [
    "bergen_polygon"
   ]
  },
  {
   "attachments": {},
   "cell_type": "markdown",
   "metadata": {},
   "source": [
    "#### Index data"
   ]
  },
  {
   "cell_type": "code",
   "execution_count": 54,
   "metadata": {},
   "outputs": [
    {
     "data": {
      "text/plain": [
       "'geometry_2dsphere'"
      ]
     },
     "execution_count": 54,
     "metadata": {},
     "output_type": "execute_result"
    }
   ],
   "source": [
    "collection_processed_2.create_index([(\"geometry\", pm.GEOSPHERE)])"
   ]
  },
  {
   "cell_type": "code",
   "execution_count": 55,
   "metadata": {},
   "outputs": [
    {
     "data": {
      "text/plain": [
       "38430"
      ]
     },
     "execution_count": 55,
     "metadata": {},
     "output_type": "execute_result"
    }
   ],
   "source": [
    "collection_processed_2.count_documents({\"geometry\": {\"$geoWithin\": {\"$geometry\": bergen_polygon}}})"
   ]
  },
  {
   "cell_type": "code",
   "execution_count": 56,
   "metadata": {},
   "outputs": [
    {
     "data": {
      "text/plain": [
       "15435"
      ]
     },
     "execution_count": 56,
     "metadata": {},
     "output_type": "execute_result"
    }
   ],
   "source": [
    "collection_processed_2.count_documents({\"geometry\": {\"$not\": {\"$geoWithin\": {\"$geometry\": bergen_polygon}}}})"
   ]
  },
  {
   "attachments": {},
   "cell_type": "markdown",
   "metadata": {},
   "source": [
    "Delete all data that are not includend in the city boundaries."
   ]
  },
  {
   "cell_type": "code",
   "execution_count": 57,
   "metadata": {},
   "outputs": [
    {
     "data": {
      "text/plain": [
       "<pymongo.results.DeleteResult at 0x269a7d30490>"
      ]
     },
     "execution_count": 57,
     "metadata": {},
     "output_type": "execute_result"
    }
   ],
   "source": [
    "collection_processed_2.delete_many(\n",
    "    {\"geometry\": {\"$not\": {\"$geoWithin\": {\"$geometry\": bergen_polygon}}}}\n",
    ")"
   ]
  },
  {
   "attachments": {},
   "cell_type": "markdown",
   "metadata": {},
   "source": [
    "### Remove unwanted fields"
   ]
  },
  {
   "cell_type": "code",
   "execution_count": 58,
   "metadata": {},
   "outputs": [
    {
     "data": {
      "text/plain": [
       "<pymongo.results.UpdateResult at 0x269ba4cf640>"
      ]
     },
     "execution_count": 58,
     "metadata": {},
     "output_type": "execute_result"
    }
   ],
   "source": [
    "collection_processed_2.update_many({'currentFlow.subSegments': {'$exists': True}}, {'$unset': {'currentFlow.subSegments' : ''}})"
   ]
  }
 ],
 "metadata": {
  "kernelspec": {
   "display_name": "myenv",
   "language": "python",
   "name": "python3"
  },
  "language_info": {
   "codemirror_mode": {
    "name": "ipython",
    "version": 3
   },
   "file_extension": ".py",
   "mimetype": "text/x-python",
   "name": "python",
   "nbconvert_exporter": "python",
   "pygments_lexer": "ipython3",
   "version": "3.11.3"
  },
  "orig_nbformat": 4
 },
 "nbformat": 4,
 "nbformat_minor": 2
}
