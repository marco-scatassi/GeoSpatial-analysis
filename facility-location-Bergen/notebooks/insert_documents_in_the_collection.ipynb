{
 "cells": [
  {
   "cell_type": "markdown",
   "metadata": {},
   "source": [
    "## Import"
   ]
  },
  {
   "cell_type": "code",
   "execution_count": 1,
   "metadata": {},
   "outputs": [],
   "source": [
    "import sys\n",
    "\n",
    "sys.path.append(r'C:\\Users\\Marco\\Documents\\GitHub\\GeoSpatial-analysis\\facility-location-Bergen\\src\\facility_location_Bergen\\custome_modules')"
   ]
  },
  {
   "cell_type": "code",
   "execution_count": 47,
   "metadata": {},
   "outputs": [],
   "source": [
    "# Get the database using the method we defined in pymongo_test_insert file\n",
    "import os\n",
    "import pytz\n",
    "import copy\n",
    "import json\n",
    "import geojson\n",
    "import numpy as np\n",
    "import pandas as pd\n",
    "from dateutil import parser\n",
    "from pymongo import GEOSPHERE\n",
    "from pymongo_get_database import get_database\n",
    "from get_api_call_time import get_api_call_time\n",
    "from geojson import GeometryCollection, LineString\n",
    "from kedro.extras.datasets.json import JSONDataSet"
   ]
  },
  {
   "cell_type": "markdown",
   "metadata": {},
   "source": [
    "## Connect to MongoDB"
   ]
  },
  {
   "attachments": {},
   "cell_type": "markdown",
   "metadata": {},
   "source": [
    "### Retrieve the database and the collection"
   ]
  },
  {
   "cell_type": "code",
   "execution_count": 129,
   "metadata": {},
   "outputs": [],
   "source": [
    "def retrieve_database_and_collections(db_name: str, collections_name: list):\n",
    "    # Get the database using the method we defined in pymongo_test_insert file\n",
    "    db = get_database(db_name)\n",
    "    # Get the collections\n",
    "    if isinstance(collections_name, list) and len(collections_name) == 2:\n",
    "        collections = {collection_name:db[collection_name] for collection_name in collections_name}\n",
    "    else:\n",
    "        raise TypeError('collections_name must be a list with two elements (raw data and processed data)')\n",
    "    return db, collections"
   ]
  },
  {
   "attachments": {},
   "cell_type": "markdown",
   "metadata": {},
   "source": [
    "Defing the database and the collections names"
   ]
  },
  {
   "cell_type": "code",
   "execution_count": 130,
   "metadata": {},
   "outputs": [],
   "source": [
    "days = [\"20_04_2023\"]\n",
    "db_name = \"facility_location_Bergen\"\n",
    "collections_names = [\"raw_data_\"+day for day in days] + [\"processed_data_\"+day for day in days]"
   ]
  },
  {
   "cell_type": "code",
   "execution_count": 132,
   "metadata": {},
   "outputs": [],
   "source": [
    "db, collections = retrieve_database_and_collections(db_name, \n",
    "                                                    collections_names)"
   ]
  },
  {
   "cell_type": "code",
   "execution_count": 133,
   "metadata": {},
   "outputs": [],
   "source": [
    "def take_empty_collections(collections: dict):\n",
    "    empty_collections = {}\n",
    "    for collection_name, collection in collections.items():\n",
    "        if collection.count_documents({}) == 0:\n",
    "            empty_collections[collection_name] = collection\n",
    "    return empty_collections"
   ]
  },
  {
   "attachments": {},
   "cell_type": "markdown",
   "metadata": {},
   "source": [
    "Filter the collections to only retrieve the ones that are empty"
   ]
  },
  {
   "cell_type": "code",
   "execution_count": 134,
   "metadata": {},
   "outputs": [],
   "source": [
    "empty_collections = take_empty_collections(collections)"
   ]
  },
  {
   "attachments": {},
   "cell_type": "markdown",
   "metadata": {},
   "source": [
    "### Insert documents in the collections"
   ]
  },
  {
   "cell_type": "code",
   "execution_count": 29,
   "metadata": {},
   "outputs": [],
   "source": [
    "root_dir = r\"C:\\Users\\Marco\\Documents\\GitHub\\GeoSpatial-analysis\\facility-location-Bergen\\data\\01_raw\\Bergen\""
   ]
  },
  {
   "cell_type": "code",
   "execution_count": 55,
   "metadata": {},
   "outputs": [],
   "source": [
    "def compose_url_to_raw_data(empty_collections, root_dir: str = root_dir):\n",
    "    days = np.unique([key[-10:] for key in empty_collections.keys()])\n",
    "    dirs = [dir for dir in os.listdir(root_dir) if dir[:10] in days]\n",
    "    dirs_urls = [os.path.join(root_dir, dir) for dir in dirs]\n",
    "    file_urls = [os.path.join(dir_url, file) for dir_url in dirs_urls for file in os.listdir(dir_url)]\n",
    "    return file_urls"
   ]
  },
  {
   "attachments": {},
   "cell_type": "markdown",
   "metadata": {},
   "source": [
    "Compose the url of the raw json"
   ]
  },
  {
   "cell_type": "code",
   "execution_count": 56,
   "metadata": {},
   "outputs": [],
   "source": [
    "urls = compose_url_to_raw_data(empty_collections)"
   ]
  },
  {
   "cell_type": "code",
   "execution_count": 58,
   "metadata": {},
   "outputs": [],
   "source": [
    "def from_urls_to_JSONDataSet(urls: list):\n",
    "    JSONDataSets = []\n",
    "    for url in urls:\n",
    "        JSONDataSets.append(JSONDataSet(filepath=url))\n",
    "    return JSONDataSets"
   ]
  },
  {
   "cell_type": "code",
   "execution_count": 95,
   "metadata": {},
   "outputs": [],
   "source": [
    "def load_raw_data(urls: list):\n",
    "    raw_data = {}\n",
    "    JSONDataSets = from_urls_to_JSONDataSet(urls)\n",
    "    \n",
    "    for url, json in zip(urls, JSONDataSets):\n",
    "        if \"afternoon\" in url:\n",
    "            key = url[-41:].removesuffix(\".json\")\n",
    "        elif \"midday\" in url:\n",
    "            key = url[-38:].removesuffix(\".json\")\n",
    "        elif \"morning\" in url:\n",
    "            key = url[-39:].removesuffix(\".json\")\n",
    "            \n",
    "        raw_data[key] = json.load()\n",
    "    \n",
    "    return raw_data"
   ]
  },
  {
   "attachments": {},
   "cell_type": "markdown",
   "metadata": {},
   "source": [
    "Load the json file"
   ]
  },
  {
   "cell_type": "code",
   "execution_count": 96,
   "metadata": {},
   "outputs": [],
   "source": [
    "raw_data = load_raw_data(urls)"
   ]
  },
  {
   "cell_type": "code",
   "execution_count": 100,
   "metadata": {},
   "outputs": [],
   "source": [
    "def get_time_from_raw_data(raw_data: dict):\n",
    "    times = {}\n",
    "    for key, value in raw_data.items():\n",
    "        times[key] = get_api_call_time(key)\n",
    "    return times"
   ]
  },
  {
   "attachments": {},
   "cell_type": "markdown",
   "metadata": {},
   "source": [
    "Get times API call time from json names"
   ]
  },
  {
   "cell_type": "code",
   "execution_count": 111,
   "metadata": {},
   "outputs": [],
   "source": [
    "api_call_times = get_time_from_raw_data(raw_data)"
   ]
  },
  {
   "cell_type": "code",
   "execution_count": 116,
   "metadata": {},
   "outputs": [],
   "source": [
    "def modify_raw_data_time_fields(raw_data: dict, api_call_times: dict):\n",
    "    time_processed_collections_documents = {}\n",
    "    \n",
    "    for key, value in raw_data.items():\n",
    "        dt = parser.parse(value[\"sourceUpdated\"])\n",
    "        \n",
    "        for location in value[\"results\"]:\n",
    "            time_processed_collections_documents[key] = location\n",
    "            time_processed_collections_documents[key][\"sourceUpdated\"] = dt  \n",
    "            time_processed_collections_documents[key][\"api_call_time\"] = api_call_times[key] \n",
    "        \n",
    "    return time_processed_collections_documents"
   ]
  },
  {
   "cell_type": "code",
   "execution_count": 118,
   "metadata": {},
   "outputs": [],
   "source": [
    "def modify_time_processed_data_geometry_field(input_data: dict):\n",
    "    geometry_processed_collections_documents = {}\n",
    "    \n",
    "    for key, value in input_data.items():\n",
    "        # copy the dictionary in order to not modify the original one\n",
    "        geometry_processed_collections_documents[key] = value\n",
    "        new_document = geometry_processed_collections_documents[key]\n",
    "        # extract the links field from the input data\n",
    "        raw_data_links = value['location']['shape']['links']\n",
    "        # create the geometry field (in order to comply the geojson format)\n",
    "        new_document[\"geometry\"] = GeometryCollection(\n",
    "            [LineString([(e['lng'],e['lat']) for e in i['points']])for i in raw_data_links])\n",
    "        \n",
    "        # bring embedded fields to the top level\n",
    "        for k in new_document['location']:\n",
    "            new_document[k] = new_document['location'][k]\n",
    "        \n",
    "        # remove duplicated fields    \n",
    "        new_document.pop('location')\n",
    "        new_document.pop('shape')\n",
    "        \n",
    "    return geometry_processed_collections_documents"
   ]
  },
  {
   "cell_type": "code",
   "execution_count": 121,
   "metadata": {},
   "outputs": [],
   "source": [
    "def process_raw_data(raw_data: dict, api_call_times: dict):\n",
    "    time_processed_collections_documents = modify_raw_data_time_fields(raw_data, api_call_times)\n",
    "    processed_collections_documents = modify_time_processed_data_geometry_field(time_processed_collections_documents)\n",
    "    return processed_collections_documents"
   ]
  },
  {
   "attachments": {},
   "cell_type": "markdown",
   "metadata": {},
   "source": [
    "Process raw data "
   ]
  },
  {
   "cell_type": "code",
   "execution_count": 122,
   "metadata": {},
   "outputs": [],
   "source": [
    "processed_collections_documents = process_raw_data(raw_data, api_call_times)"
   ]
  },
  {
   "cell_type": "code",
   "execution_count": 143,
   "metadata": {},
   "outputs": [],
   "source": [
    "def insert_documents_in_the_collections(raw_data: dict, processed_collections_documents: dict, collections: dict):\n",
    "    for key, value in collections.items():\n",
    "        if \"raw\" in key:\n",
    "            value.insert_many(list(raw_data.values()))\n",
    "        elif \"processed\" in key:\n",
    "            value.insert_many(list(processed_collections_documents.values()))"
   ]
  },
  {
   "attachments": {},
   "cell_type": "markdown",
   "metadata": {},
   "source": [
    "Insert the data in the collections"
   ]
  },
  {
   "cell_type": "code",
   "execution_count": null,
   "metadata": {},
   "outputs": [],
   "source": [
    "insert_documents_in_the_collections(raw_data, processed_collections_documents, collections)"
   ]
  }
 ],
 "metadata": {
  "kernelspec": {
   "display_name": "Kedro (facility_location_Bergen)",
   "language": "python",
   "name": "kedro_facility_location_bergen"
  },
  "language_info": {
   "codemirror_mode": {
    "name": "ipython",
    "version": 3
   },
   "file_extension": ".py",
   "mimetype": "text/x-python",
   "name": "python",
   "nbconvert_exporter": "python",
   "pygments_lexer": "ipython3",
   "version": "3.10.11"
  }
 },
 "nbformat": 4,
 "nbformat_minor": 2
}
