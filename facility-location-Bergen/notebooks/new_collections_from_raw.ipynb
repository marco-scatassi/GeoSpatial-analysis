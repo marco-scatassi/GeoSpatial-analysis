{
 "cells": [
  {
   "cell_type": "markdown",
   "metadata": {},
   "source": [
    "## Import"
   ]
  },
  {
   "cell_type": "code",
   "execution_count": 47,
   "metadata": {
    "tags": [
     "node"
    ]
   },
   "outputs": [],
   "source": [
    "import sys\n",
    "\n",
    "sys.path.append(r'C:\\Users\\Marco\\Documents\\GitHub\\GeoSpatial-analysis\\facility-location-Bergen\\src\\facility_location_Bergen\\custome_modules')"
   ]
  },
  {
   "cell_type": "code",
   "execution_count": 53,
   "metadata": {
    "tags": [
     "node"
    ]
   },
   "outputs": [
    {
     "data": {
      "text/html": [
       "<pre style=\"white-space:pre;overflow-x:auto;line-height:normal;font-family:Menlo,'DejaVu Sans Mono',consolas,'Courier New',monospace\"><span style=\"color: #800000; text-decoration-color: #800000\">╭─────────────────────────────── </span><span style=\"color: #800000; text-decoration-color: #800000; font-weight: bold\">Traceback </span><span style=\"color: #bf7f7f; text-decoration-color: #bf7f7f; font-weight: bold\">(most recent call last)</span><span style=\"color: #800000; text-decoration-color: #800000\"> ────────────────────────────────╮</span>\n",
       "<span style=\"color: #800000; text-decoration-color: #800000\">│</span> in <span style=\"color: #00ff00; text-decoration-color: #00ff00\">&lt;module&gt;</span>:<span style=\"color: #0000ff; text-decoration-color: #0000ff\">14</span>                                                                                   <span style=\"color: #800000; text-decoration-color: #800000\">│</span>\n",
       "<span style=\"color: #800000; text-decoration-color: #800000\">│</span>                                                                                                  <span style=\"color: #800000; text-decoration-color: #800000\">│</span>\n",
       "<span style=\"color: #800000; text-decoration-color: #800000\">│</span>   <span style=\"color: #7f7f7f; text-decoration-color: #7f7f7f\">11 </span><span style=\"color: #0000ff; text-decoration-color: #0000ff\">from</span> <span style=\"color: #00ffff; text-decoration-color: #00ffff; text-decoration: underline\">get_api_call_time</span> <span style=\"color: #0000ff; text-decoration-color: #0000ff\">import</span> get_api_call_time                                             <span style=\"color: #800000; text-decoration-color: #800000\">│</span>\n",
       "<span style=\"color: #800000; text-decoration-color: #800000\">│</span>   <span style=\"color: #7f7f7f; text-decoration-color: #7f7f7f\">12 </span><span style=\"color: #0000ff; text-decoration-color: #0000ff\">from</span> <span style=\"color: #00ffff; text-decoration-color: #00ffff; text-decoration: underline\">geojson</span> <span style=\"color: #0000ff; text-decoration-color: #0000ff\">import</span> GeometryCollection, LineString                                          <span style=\"color: #800000; text-decoration-color: #800000\">│</span>\n",
       "<span style=\"color: #800000; text-decoration-color: #800000\">│</span>   <span style=\"color: #7f7f7f; text-decoration-color: #7f7f7f\">13 </span><span style=\"color: #0000ff; text-decoration-color: #0000ff\">from</span> <span style=\"color: #00ffff; text-decoration-color: #00ffff; text-decoration: underline\">kedro.extras.datasets.json</span> <span style=\"color: #0000ff; text-decoration-color: #0000ff\">import</span> JSONDataSet                                          <span style=\"color: #800000; text-decoration-color: #800000\">│</span>\n",
       "<span style=\"color: #800000; text-decoration-color: #800000\">│</span> <span style=\"color: #800000; text-decoration-color: #800000\">❱ </span>14 <span style=\"color: #0000ff; text-decoration-color: #0000ff\">from</span> <span style=\"color: #00ffff; text-decoration-color: #00ffff; text-decoration: underline\">mongo_db</span> <span style=\"color: #0000ff; text-decoration-color: #0000ff\">import</span> retrieve_collections_names                                             <span style=\"color: #800000; text-decoration-color: #800000\">│</span>\n",
       "<span style=\"color: #800000; text-decoration-color: #800000\">│</span>   <span style=\"color: #7f7f7f; text-decoration-color: #7f7f7f\">15 </span>                                                                                            <span style=\"color: #800000; text-decoration-color: #800000\">│</span>\n",
       "<span style=\"color: #800000; text-decoration-color: #800000\">╰──────────────────────────────────────────────────────────────────────────────────────────────────╯</span>\n",
       "<span style=\"color: #ff0000; text-decoration-color: #ff0000; font-weight: bold\">ImportError: </span>cannot import name <span style=\"color: #008000; text-decoration-color: #008000\">'retrieve_collections_names'</span> from <span style=\"color: #008000; text-decoration-color: #008000\">'mongo_db'</span> \n",
       "<span style=\"font-weight: bold\">(</span>C:\\Users\\Marco\\Documents\\GitHub\\GeoSpatial-analysis\\facility-location-Bergen\\src\\facility_location_Bergen\\custome_\n",
       "modules\\mongo_db.py<span style=\"font-weight: bold\">)</span>\n",
       "</pre>\n"
      ],
      "text/plain": [
       "\u001b[31m╭─\u001b[0m\u001b[31m──────────────────────────────\u001b[0m\u001b[31m \u001b[0m\u001b[1;31mTraceback \u001b[0m\u001b[1;2;31m(most recent call last)\u001b[0m\u001b[31m \u001b[0m\u001b[31m───────────────────────────────\u001b[0m\u001b[31m─╮\u001b[0m\n",
       "\u001b[31m│\u001b[0m in \u001b[92m<module>\u001b[0m:\u001b[94m14\u001b[0m                                                                                   \u001b[31m│\u001b[0m\n",
       "\u001b[31m│\u001b[0m                                                                                                  \u001b[31m│\u001b[0m\n",
       "\u001b[31m│\u001b[0m   \u001b[2m11 \u001b[0m\u001b[94mfrom\u001b[0m \u001b[4;96mget_api_call_time\u001b[0m \u001b[94mimport\u001b[0m get_api_call_time                                             \u001b[31m│\u001b[0m\n",
       "\u001b[31m│\u001b[0m   \u001b[2m12 \u001b[0m\u001b[94mfrom\u001b[0m \u001b[4;96mgeojson\u001b[0m \u001b[94mimport\u001b[0m GeometryCollection, LineString                                          \u001b[31m│\u001b[0m\n",
       "\u001b[31m│\u001b[0m   \u001b[2m13 \u001b[0m\u001b[94mfrom\u001b[0m \u001b[4;96mkedro\u001b[0m\u001b[4;96m.\u001b[0m\u001b[4;96mextras\u001b[0m\u001b[4;96m.\u001b[0m\u001b[4;96mdatasets\u001b[0m\u001b[4;96m.\u001b[0m\u001b[4;96mjson\u001b[0m \u001b[94mimport\u001b[0m JSONDataSet                                          \u001b[31m│\u001b[0m\n",
       "\u001b[31m│\u001b[0m \u001b[31m❱ \u001b[0m14 \u001b[94mfrom\u001b[0m \u001b[4;96mmongo_db\u001b[0m \u001b[94mimport\u001b[0m retrieve_collections_names                                             \u001b[31m│\u001b[0m\n",
       "\u001b[31m│\u001b[0m   \u001b[2m15 \u001b[0m                                                                                            \u001b[31m│\u001b[0m\n",
       "\u001b[31m╰──────────────────────────────────────────────────────────────────────────────────────────────────╯\u001b[0m\n",
       "\u001b[1;91mImportError: \u001b[0mcannot import name \u001b[32m'retrieve_collections_names'\u001b[0m from \u001b[32m'mongo_db'\u001b[0m \n",
       "\u001b[1m(\u001b[0mC:\\Users\\Marco\\Documents\\GitHub\\GeoSpatial-analysis\\facility-location-Bergen\\src\\facility_location_Bergen\\custome_\n",
       "modules\\mongo_db.py\u001b[1m)\u001b[0m\n"
      ]
     },
     "metadata": {},
     "output_type": "display_data"
    }
   ],
   "source": [
    "# Get the database using the method we defined in pymongo_test_insert file\n",
    "import os\n",
    "import pytz\n",
    "import copy\n",
    "import json\n",
    "import geojson\n",
    "import numpy as np\n",
    "import pandas as pd\n",
    "from dateutil import parser\n",
    "from pymongo import database\n",
    "from get_api_call_time import get_api_call_time\n",
    "from geojson import GeometryCollection, LineString\n",
    "from kedro.extras.datasets.json import JSONDataSet"
   ]
  },
  {
   "cell_type": "markdown",
   "metadata": {},
   "source": [
    "## Connect to MongoDB"
   ]
  },
  {
   "cell_type": "markdown",
   "metadata": {},
   "source": [
    "### Retrieve the database and the collection"
   ]
  },
  {
   "cell_type": "markdown",
   "metadata": {},
   "source": [
    "Defing the database and the collections names"
   ]
  },
  {
   "cell_type": "code",
   "execution_count": 40,
   "metadata": {},
   "outputs": [],
   "source": [
    "days = [\"20_04_2023\"]\n",
    "db_name = \"facility_location_Bergen\""
   ]
  },
  {
   "cell_type": "code",
   "execution_count": 41,
   "metadata": {},
   "outputs": [],
   "source": [
    "db, collections = retrieve_database_and_collections(db_name, days, [\"raw\", \"processed\"])"
   ]
  },
  {
   "cell_type": "code",
   "execution_count": 31,
   "metadata": {},
   "outputs": [
    {
     "data": {
      "text/plain": [
       "pymongo.database.Database"
      ]
     },
     "execution_count": 31,
     "metadata": {},
     "output_type": "execute_result"
    }
   ],
   "source": [
    "type(db)"
   ]
  },
  {
   "cell_type": "code",
   "execution_count": 29,
   "metadata": {},
   "outputs": [
    {
     "data": {
      "text/plain": [
       "Database(MongoClient(host=['localhost:27017'], document_class=dict, tz_aware=False, connect=True), 'facility_location_Bergen')"
      ]
     },
     "execution_count": 29,
     "metadata": {},
     "output_type": "execute_result"
    }
   ],
   "source": []
  },
  {
   "cell_type": "code",
   "execution_count": 7,
   "metadata": {
    "tags": [
     "node"
    ]
   },
   "outputs": [],
   "source": [
    "def take_empty_collections(collections: dict):\n",
    "    empty_collections = {}\n",
    "    for collection_name, collection in collections.items():\n",
    "        if collection.count_documents({}) == 0:\n",
    "            empty_collections[collection_name] = collection\n",
    "    return empty_collections"
   ]
  },
  {
   "cell_type": "markdown",
   "metadata": {},
   "source": [
    "Filter the collections to only retrieve the ones that are empty"
   ]
  },
  {
   "cell_type": "code",
   "execution_count": 8,
   "metadata": {},
   "outputs": [],
   "source": [
    "empty_collections = take_empty_collections(collections)"
   ]
  },
  {
   "cell_type": "markdown",
   "metadata": {},
   "source": [
    "### Insert documents in the collections"
   ]
  },
  {
   "cell_type": "code",
   "execution_count": 9,
   "metadata": {},
   "outputs": [],
   "source": [
    "root_dir = r\"C:\\Users\\Marco\\Documents\\GitHub\\GeoSpatial-analysis\\facility-location-Bergen\\data\\01_raw\\Bergen\""
   ]
  },
  {
   "cell_type": "code",
   "execution_count": 10,
   "metadata": {
    "tags": [
     "node"
    ]
   },
   "outputs": [],
   "source": [
    "def compose_url_to_raw_data(empty_collections, root_dir: str = root_dir):\n",
    "    days = np.unique([key[-10:] for key in empty_collections.keys()])\n",
    "    dirs = [dir for dir in os.listdir(root_dir) if dir[:10] in days]\n",
    "    dirs_urls = [os.path.join(root_dir, dir) for dir in dirs]\n",
    "    file_urls = [os.path.join(dir_url, file) for dir_url in dirs_urls for file in os.listdir(dir_url)]\n",
    "    return file_urls"
   ]
  },
  {
   "cell_type": "markdown",
   "metadata": {},
   "source": [
    "Compose the url of the raw json"
   ]
  },
  {
   "cell_type": "code",
   "execution_count": 11,
   "metadata": {},
   "outputs": [],
   "source": [
    "urls = compose_url_to_raw_data(empty_collections)"
   ]
  },
  {
   "cell_type": "code",
   "execution_count": 12,
   "metadata": {
    "tags": [
     "node"
    ]
   },
   "outputs": [],
   "source": [
    "def from_urls_to_JSONDataSet(urls: list):\n",
    "    JSONDataSets = []\n",
    "    for url in urls:\n",
    "        JSONDataSets.append(JSONDataSet(filepath=url))\n",
    "    return JSONDataSets"
   ]
  },
  {
   "cell_type": "code",
   "execution_count": 13,
   "metadata": {
    "tags": [
     "node"
    ]
   },
   "outputs": [],
   "source": [
    "def load_raw_data(urls: list):\n",
    "    raw_data = {}\n",
    "    JSONDataSets = from_urls_to_JSONDataSet(urls)\n",
    "    \n",
    "    for url, json in zip(urls, JSONDataSets):\n",
    "        if \"afternoon\" in url:\n",
    "            key = url[-41:].removesuffix(\".json\")\n",
    "        elif \"midday\" in url:\n",
    "            key = url[-38:].removesuffix(\".json\")\n",
    "        elif \"morning\" in url:\n",
    "            key = url[-39:].removesuffix(\".json\")\n",
    "            \n",
    "        raw_data[key] = json.load()\n",
    "    \n",
    "    return raw_data"
   ]
  },
  {
   "cell_type": "markdown",
   "metadata": {},
   "source": [
    "Load the json file"
   ]
  },
  {
   "cell_type": "code",
   "execution_count": 14,
   "metadata": {},
   "outputs": [],
   "source": [
    "raw_data = load_raw_data(urls)"
   ]
  },
  {
   "cell_type": "code",
   "execution_count": 15,
   "metadata": {
    "tags": [
     "node"
    ]
   },
   "outputs": [],
   "source": [
    "def get_time_from_raw_data(raw_data: dict):\n",
    "    times = {}\n",
    "    for key, value in raw_data.items():\n",
    "        times[key] = get_api_call_time(key)\n",
    "    return times"
   ]
  },
  {
   "cell_type": "code",
   "execution_count": 16,
   "metadata": {
    "tags": [
     "node"
    ]
   },
   "outputs": [],
   "source": [
    "def modify_raw_data_time_fields(raw_data: dict):\n",
    "    time_processed_collections_documents = {}\n",
    "    api_call_times = get_time_from_raw_data(raw_data)\n",
    "    \n",
    "    for key, value in raw_data.items():\n",
    "        dt = parser.parse(value[\"sourceUpdated\"])\n",
    "        \n",
    "        for location in value[\"results\"]:\n",
    "            time_processed_collections_documents[key] = location\n",
    "            time_processed_collections_documents[key][\"sourceUpdated\"] = dt  \n",
    "            time_processed_collections_documents[key][\"api_call_time\"] = api_call_times[key] \n",
    "        \n",
    "    return time_processed_collections_documents"
   ]
  },
  {
   "cell_type": "code",
   "execution_count": 17,
   "metadata": {
    "tags": [
     "node"
    ]
   },
   "outputs": [],
   "source": [
    "def modify_time_processed_data_geometry_field(input_data: dict):\n",
    "    geometry_processed_collections_documents = {}\n",
    "    \n",
    "    for key, value in input_data.items():\n",
    "        # copy the dictionary in order to not modify the original one\n",
    "        geometry_processed_collections_documents[key] = value\n",
    "        new_document = geometry_processed_collections_documents[key]\n",
    "        # extract the links field from the input data\n",
    "        raw_data_links = value['location']['shape']['links']\n",
    "        # create the geometry field (in order to comply the geojson format)\n",
    "        new_document[\"geometry\"] = GeometryCollection(\n",
    "            [LineString([(e['lng'],e['lat']) for e in i['points']])for i in raw_data_links])\n",
    "        \n",
    "        # bring embedded fields to the top level\n",
    "        for k in new_document['location']:\n",
    "            new_document[k] = new_document['location'][k]\n",
    "        \n",
    "        # remove duplicated fields    \n",
    "        new_document.pop('location')\n",
    "        new_document.pop('shape')\n",
    "        \n",
    "    return geometry_processed_collections_documents"
   ]
  },
  {
   "cell_type": "code",
   "execution_count": 20,
   "metadata": {
    "tags": [
     "node"
    ]
   },
   "outputs": [],
   "source": [
    "def process_raw_data(raw_data: dict):\n",
    "    time_processed_collections_documents = modify_raw_data_time_fields(raw_data)\n",
    "    processed_collections_documents = modify_time_processed_data_geometry_field(time_processed_collections_documents)\n",
    "    return processed_collections_documents"
   ]
  },
  {
   "cell_type": "markdown",
   "metadata": {},
   "source": [
    "Process raw data "
   ]
  },
  {
   "cell_type": "code",
   "execution_count": 21,
   "metadata": {},
   "outputs": [],
   "source": [
    "processed_collections_documents = process_raw_data(raw_data)"
   ]
  },
  {
   "cell_type": "code",
   "execution_count": 143,
   "metadata": {
    "tags": [
     "node"
    ]
   },
   "outputs": [],
   "source": [
    "def insert_documents_in_the_collections(raw_data: dict, processed_collections_documents: dict, collections: dict):\n",
    "    for key, value in collections.items():\n",
    "        if \"raw\" in key:\n",
    "            value.insert_many(list(raw_data.values()))\n",
    "        elif \"processed\" in key:\n",
    "            value.insert_many(list(processed_collections_documents.values()))"
   ]
  },
  {
   "cell_type": "markdown",
   "metadata": {},
   "source": [
    "Insert the data in the collections"
   ]
  },
  {
   "cell_type": "code",
   "execution_count": 144,
   "metadata": {},
   "outputs": [],
   "source": [
    "insert_documents_in_the_collections(raw_data, processed_collections_documents, empty_collections)"
   ]
  }
 ],
 "metadata": {
  "celltoolbar": "Tags",
  "kernelspec": {
   "display_name": "Kedro (facility_location_Bergen)",
   "language": "python",
   "name": "kedro_facility_location_bergen"
  },
  "language_info": {
   "codemirror_mode": {
    "name": "ipython",
    "version": 3
   },
   "file_extension": ".py",
   "mimetype": "text/x-python",
   "name": "python",
   "nbconvert_exporter": "python",
   "pygments_lexer": "ipython3",
   "version": "3.10.11"
  }
 },
 "nbformat": 4,
 "nbformat_minor": 2
}
